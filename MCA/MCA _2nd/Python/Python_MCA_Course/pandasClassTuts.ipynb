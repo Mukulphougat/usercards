{
 "cells": [
  {
   "cell_type": "code",
   "execution_count": 17,
   "metadata": {
    "collapsed": true
   },
   "outputs": [
    {
     "data": {
      "text/plain": "   Host_Death_Time  Host_Build  Level  Phase  Waterflow_Death  Health_Pct  \\\n0            299.0   RAW_MELEE  124.0    2.0             True        66.0   \n1            261.0      HYBRID  169.0    2.0             True        92.0   \n2            148.0  PROC_MELEE  179.0    1.0             True        93.0   \n3            247.0    RAW_CAST  141.0    2.0            False        89.0   \n4            163.0   PROC_CAST  126.0    1.0             True        64.0   \n5            248.0  PROC_MELEE  134.0    2.0            False        40.0   \n6            205.0      HYBRID  157.0    2.0            False        49.0   \n7             73.0      HYBRID  172.0    1.0             True        86.0   \n8            292.0    RAW_CAST  133.0    1.0             True        12.0   \n9            147.0  PROC_MELEE  177.0    1.0            False        65.0   \n\n  Location  Phantom_Count Phantom_Build Phantom_Death  \n0    INNER            2.0     RAW_MELEE          True  \n1   CENTER            2.0     PROC_CAST          True  \n2    INNER            1.0           NaN           NaN  \n3    INNER            2.0     RAW_MELEE         False  \n4    INNER            2.0    PROC_MELEE          True  \n5   CENTER            1.0           NaN           NaN  \n6   CENTER            2.0    PROC_MELEE         False  \n7    INNER            2.0     PROC_CAST          True  \n8    INNER            2.0        HYBRID         False  \n9    INNER            1.0           NaN           NaN  ",
      "text/html": "<div>\n<style scoped>\n    .dataframe tbody tr th:only-of-type {\n        vertical-align: middle;\n    }\n\n    .dataframe tbody tr th {\n        vertical-align: top;\n    }\n\n    .dataframe thead th {\n        text-align: right;\n    }\n</style>\n<table border=\"1\" class=\"dataframe\">\n  <thead>\n    <tr style=\"text-align: right;\">\n      <th></th>\n      <th>Host_Death_Time</th>\n      <th>Host_Build</th>\n      <th>Level</th>\n      <th>Phase</th>\n      <th>Waterflow_Death</th>\n      <th>Health_Pct</th>\n      <th>Location</th>\n      <th>Phantom_Count</th>\n      <th>Phantom_Build</th>\n      <th>Phantom_Death</th>\n    </tr>\n  </thead>\n  <tbody>\n    <tr>\n      <th>0</th>\n      <td>299.0</td>\n      <td>RAW_MELEE</td>\n      <td>124.0</td>\n      <td>2.0</td>\n      <td>True</td>\n      <td>66.0</td>\n      <td>INNER</td>\n      <td>2.0</td>\n      <td>RAW_MELEE</td>\n      <td>True</td>\n    </tr>\n    <tr>\n      <th>1</th>\n      <td>261.0</td>\n      <td>HYBRID</td>\n      <td>169.0</td>\n      <td>2.0</td>\n      <td>True</td>\n      <td>92.0</td>\n      <td>CENTER</td>\n      <td>2.0</td>\n      <td>PROC_CAST</td>\n      <td>True</td>\n    </tr>\n    <tr>\n      <th>2</th>\n      <td>148.0</td>\n      <td>PROC_MELEE</td>\n      <td>179.0</td>\n      <td>1.0</td>\n      <td>True</td>\n      <td>93.0</td>\n      <td>INNER</td>\n      <td>1.0</td>\n      <td>NaN</td>\n      <td>NaN</td>\n    </tr>\n    <tr>\n      <th>3</th>\n      <td>247.0</td>\n      <td>RAW_CAST</td>\n      <td>141.0</td>\n      <td>2.0</td>\n      <td>False</td>\n      <td>89.0</td>\n      <td>INNER</td>\n      <td>2.0</td>\n      <td>RAW_MELEE</td>\n      <td>False</td>\n    </tr>\n    <tr>\n      <th>4</th>\n      <td>163.0</td>\n      <td>PROC_CAST</td>\n      <td>126.0</td>\n      <td>1.0</td>\n      <td>True</td>\n      <td>64.0</td>\n      <td>INNER</td>\n      <td>2.0</td>\n      <td>PROC_MELEE</td>\n      <td>True</td>\n    </tr>\n    <tr>\n      <th>5</th>\n      <td>248.0</td>\n      <td>PROC_MELEE</td>\n      <td>134.0</td>\n      <td>2.0</td>\n      <td>False</td>\n      <td>40.0</td>\n      <td>CENTER</td>\n      <td>1.0</td>\n      <td>NaN</td>\n      <td>NaN</td>\n    </tr>\n    <tr>\n      <th>6</th>\n      <td>205.0</td>\n      <td>HYBRID</td>\n      <td>157.0</td>\n      <td>2.0</td>\n      <td>False</td>\n      <td>49.0</td>\n      <td>CENTER</td>\n      <td>2.0</td>\n      <td>PROC_MELEE</td>\n      <td>False</td>\n    </tr>\n    <tr>\n      <th>7</th>\n      <td>73.0</td>\n      <td>HYBRID</td>\n      <td>172.0</td>\n      <td>1.0</td>\n      <td>True</td>\n      <td>86.0</td>\n      <td>INNER</td>\n      <td>2.0</td>\n      <td>PROC_CAST</td>\n      <td>True</td>\n    </tr>\n    <tr>\n      <th>8</th>\n      <td>292.0</td>\n      <td>RAW_CAST</td>\n      <td>133.0</td>\n      <td>1.0</td>\n      <td>True</td>\n      <td>12.0</td>\n      <td>INNER</td>\n      <td>2.0</td>\n      <td>HYBRID</td>\n      <td>False</td>\n    </tr>\n    <tr>\n      <th>9</th>\n      <td>147.0</td>\n      <td>PROC_MELEE</td>\n      <td>177.0</td>\n      <td>1.0</td>\n      <td>False</td>\n      <td>65.0</td>\n      <td>INNER</td>\n      <td>1.0</td>\n      <td>NaN</td>\n      <td>NaN</td>\n    </tr>\n  </tbody>\n</table>\n</div>"
     },
     "execution_count": 17,
     "metadata": {},
     "output_type": "execute_result"
    }
   ],
   "source": [
    "import pandas as pd\n",
    "\n",
    "myData = pd.read_csv('malenia.csv')\n",
    "myData.head(10)"
   ]
  },
  {
   "cell_type": "code",
   "execution_count": 18,
   "outputs": [
    {
     "data": {
      "text/plain": "      Host_Death_Time Host_Build  Level  Phase  Waterflow_Death  Health_Pct  \\\n3616            204.0   RAW_CAST  171.0    2.0            False        23.0   \n3617            259.0     HYBRID  160.0    2.0            False        55.0   \n3618            288.0  PROC_CAST  173.0    2.0            False        60.0   \n3619             58.0  PROC_CAST  139.0    2.0            False        42.0   \n3620            270.0     HYBRID  128.0    1.0             True        73.0   \n\n     Location  Phantom_Count Phantom_Build Phantom_Death  \n3616    OUTER            1.0           NaN           NaN  \n3617    INNER            1.0           NaN           NaN  \n3618    INNER            2.0        HYBRID          True  \n3619   CENTER            1.0           NaN           NaN  \n3620    INNER            2.0     PROC_CAST         False  ",
      "text/html": "<div>\n<style scoped>\n    .dataframe tbody tr th:only-of-type {\n        vertical-align: middle;\n    }\n\n    .dataframe tbody tr th {\n        vertical-align: top;\n    }\n\n    .dataframe thead th {\n        text-align: right;\n    }\n</style>\n<table border=\"1\" class=\"dataframe\">\n  <thead>\n    <tr style=\"text-align: right;\">\n      <th></th>\n      <th>Host_Death_Time</th>\n      <th>Host_Build</th>\n      <th>Level</th>\n      <th>Phase</th>\n      <th>Waterflow_Death</th>\n      <th>Health_Pct</th>\n      <th>Location</th>\n      <th>Phantom_Count</th>\n      <th>Phantom_Build</th>\n      <th>Phantom_Death</th>\n    </tr>\n  </thead>\n  <tbody>\n    <tr>\n      <th>3616</th>\n      <td>204.0</td>\n      <td>RAW_CAST</td>\n      <td>171.0</td>\n      <td>2.0</td>\n      <td>False</td>\n      <td>23.0</td>\n      <td>OUTER</td>\n      <td>1.0</td>\n      <td>NaN</td>\n      <td>NaN</td>\n    </tr>\n    <tr>\n      <th>3617</th>\n      <td>259.0</td>\n      <td>HYBRID</td>\n      <td>160.0</td>\n      <td>2.0</td>\n      <td>False</td>\n      <td>55.0</td>\n      <td>INNER</td>\n      <td>1.0</td>\n      <td>NaN</td>\n      <td>NaN</td>\n    </tr>\n    <tr>\n      <th>3618</th>\n      <td>288.0</td>\n      <td>PROC_CAST</td>\n      <td>173.0</td>\n      <td>2.0</td>\n      <td>False</td>\n      <td>60.0</td>\n      <td>INNER</td>\n      <td>2.0</td>\n      <td>HYBRID</td>\n      <td>True</td>\n    </tr>\n    <tr>\n      <th>3619</th>\n      <td>58.0</td>\n      <td>PROC_CAST</td>\n      <td>139.0</td>\n      <td>2.0</td>\n      <td>False</td>\n      <td>42.0</td>\n      <td>CENTER</td>\n      <td>1.0</td>\n      <td>NaN</td>\n      <td>NaN</td>\n    </tr>\n    <tr>\n      <th>3620</th>\n      <td>270.0</td>\n      <td>HYBRID</td>\n      <td>128.0</td>\n      <td>1.0</td>\n      <td>True</td>\n      <td>73.0</td>\n      <td>INNER</td>\n      <td>2.0</td>\n      <td>PROC_CAST</td>\n      <td>False</td>\n    </tr>\n  </tbody>\n</table>\n</div>"
     },
     "execution_count": 18,
     "metadata": {},
     "output_type": "execute_result"
    }
   ],
   "source": [
    "myData.tail(5)"
   ],
   "metadata": {
    "collapsed": false,
    "pycharm": {
     "name": "#%%\n"
    }
   }
  },
  {
   "cell_type": "code",
   "execution_count": 32,
   "outputs": [
    {
     "data": {
      "text/plain": "163.3916045291356"
     },
     "execution_count": 32,
     "metadata": {},
     "output_type": "execute_result"
    }
   ],
   "source": [
    "myData['Host_Death_Time'].max()\n",
    "myData['Host_Death_Time'].min()\n",
    "myData['Host_Death_Time'].mean()"
   ],
   "metadata": {
    "collapsed": false,
    "pycharm": {
     "name": "#%%\n"
    }
   }
  },
  {
   "cell_type": "code",
   "execution_count": 19,
   "outputs": [
    {
     "data": {
      "text/plain": "(3621, 10)"
     },
     "execution_count": 19,
     "metadata": {},
     "output_type": "execute_result"
    }
   ],
   "source": [
    "myData.shape"
   ],
   "metadata": {
    "collapsed": false,
    "pycharm": {
     "name": "#%%\n"
    }
   }
  },
  {
   "cell_type": "code",
   "execution_count": 22,
   "outputs": [
    {
     "data": {
      "text/plain": "Host_Death_Time    591641.0\nLevel              542784.0\nPhase                5434.0\nWaterflow_Death      1787.0\nHealth_Pct         177126.0\nPhantom_Count        6046.0\ndtype: float64"
     },
     "execution_count": 22,
     "metadata": {},
     "output_type": "execute_result"
    }
   ],
   "source": [
    "myData.sum(numeric_only=True)"
   ],
   "metadata": {
    "collapsed": false,
    "pycharm": {
     "name": "#%%\n"
    }
   }
  },
  {
   "cell_type": "code",
   "execution_count": 23,
   "outputs": [
    {
     "data": {
      "text/plain": "Host_Death_Time    163.391605\nLevel              149.898923\nPhase                1.500690\nWaterflow_Death      0.493510\nHealth_Pct          48.916321\nPhantom_Count        1.669705\ndtype: float64"
     },
     "execution_count": 23,
     "metadata": {},
     "output_type": "execute_result"
    }
   ],
   "source": [
    "myData.mean(numeric_only=True)"
   ],
   "metadata": {
    "collapsed": false,
    "pycharm": {
     "name": "#%%\n"
    }
   }
  },
  {
   "cell_type": "code",
   "execution_count": 24,
   "outputs": [
    {
     "data": {
      "text/plain": "0       494.0\n1       527.0\n2       423.0\n3       481.0\n4       357.0\n        ...  \n3616    401.0\n3617    477.0\n3618    525.0\n3619    242.0\n3620    475.0\nLength: 3621, dtype: object"
     },
     "execution_count": 24,
     "metadata": {},
     "output_type": "execute_result"
    }
   ],
   "source": [
    "myData.sum(axis=1,numeric_only=True)"
   ],
   "metadata": {
    "collapsed": false,
    "pycharm": {
     "name": "#%%\n"
    }
   }
  },
  {
   "cell_type": "code",
   "execution_count": 25,
   "outputs": [
    {
     "data": {
      "text/plain": "0    494.0\n1    527.0\n2    423.0\n3    481.0\ndtype: object"
     },
     "execution_count": 25,
     "metadata": {},
     "output_type": "execute_result"
    }
   ],
   "source": [
    "myData.head(4).sum(axis=1,numeric_only=True)"
   ],
   "metadata": {
    "collapsed": false,
    "pycharm": {
     "name": "#%%\n"
    }
   }
  },
  {
   "cell_type": "code",
   "execution_count": 27,
   "outputs": [
    {
     "data": {
      "text/plain": "Host_Death_Time    300.0\nLevel              180.0\nPhase                2.0\nWaterflow_Death     True\nHealth_Pct          93.0\nPhantom_Count        2.0\ndtype: object"
     },
     "execution_count": 27,
     "metadata": {},
     "output_type": "execute_result"
    }
   ],
   "source": [
    "myData.max(numeric_only=True)"
   ],
   "metadata": {
    "collapsed": false,
    "pycharm": {
     "name": "#%%\n"
    }
   }
  },
  {
   "cell_type": "code",
   "execution_count": 28,
   "outputs": [
    {
     "data": {
      "text/plain": "Host_Death_Time     10.0\nLevel              120.0\nPhase                1.0\nWaterflow_Death    False\nHealth_Pct           6.0\nPhantom_Count        1.0\ndtype: object"
     },
     "execution_count": 28,
     "metadata": {},
     "output_type": "execute_result"
    }
   ],
   "source": [
    "myData.min(numeric_only=True)"
   ],
   "metadata": {
    "collapsed": false,
    "pycharm": {
     "name": "#%%\n"
    }
   }
  }
 ],
 "metadata": {
  "kernelspec": {
   "display_name": "Python 3",
   "language": "python",
   "name": "python3"
  },
  "language_info": {
   "codemirror_mode": {
    "name": "ipython",
    "version": 2
   },
   "file_extension": ".py",
   "mimetype": "text/x-python",
   "name": "python",
   "nbconvert_exporter": "python",
   "pygments_lexer": "ipython2",
   "version": "2.7.6"
  }
 },
 "nbformat": 4,
 "nbformat_minor": 0
}