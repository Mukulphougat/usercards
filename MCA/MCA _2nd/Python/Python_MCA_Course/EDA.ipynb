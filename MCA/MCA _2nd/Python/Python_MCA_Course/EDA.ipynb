{
 "cells": [
  {
   "cell_type": "code",
   "execution_count": 2,
   "metadata": {
    "collapsed": true,
    "pycharm": {
     "name": "#%%\n"
    }
   },
   "outputs": [],
   "source": [
    "import numpy as np\n",
    "import pandas as pd"
   ]
  },
  {
   "cell_type": "code",
   "execution_count": 3,
   "outputs": [
    {
     "data": {
      "text/plain": "      Host_Death_Time  Host_Build  Level  Phase  Waterflow_Death  Health_Pct  \\\n0               299.0   RAW_MELEE  124.0    2.0             True        66.0   \n1               261.0      HYBRID  169.0    2.0             True        92.0   \n2               148.0  PROC_MELEE  179.0    1.0             True        93.0   \n3               247.0    RAW_CAST  141.0    2.0            False        89.0   \n4               163.0   PROC_CAST  126.0    1.0             True        64.0   \n...               ...         ...    ...    ...              ...         ...   \n3616            204.0    RAW_CAST  171.0    2.0            False        23.0   \n3617            259.0      HYBRID  160.0    2.0            False        55.0   \n3618            288.0   PROC_CAST  173.0    2.0            False        60.0   \n3619             58.0   PROC_CAST  139.0    2.0            False        42.0   \n3620            270.0      HYBRID  128.0    1.0             True        73.0   \n\n     Location  Phantom_Count Phantom_Build Phantom_Death  \n0       INNER            2.0     RAW_MELEE          True  \n1      CENTER            2.0     PROC_CAST          True  \n2       INNER            1.0           NaN           NaN  \n3       INNER            2.0     RAW_MELEE         False  \n4       INNER            2.0    PROC_MELEE          True  \n...       ...            ...           ...           ...  \n3616    OUTER            1.0           NaN           NaN  \n3617    INNER            1.0           NaN           NaN  \n3618    INNER            2.0        HYBRID          True  \n3619   CENTER            1.0           NaN           NaN  \n3620    INNER            2.0     PROC_CAST         False  \n\n[3621 rows x 10 columns]",
      "text/html": "<div>\n<style scoped>\n    .dataframe tbody tr th:only-of-type {\n        vertical-align: middle;\n    }\n\n    .dataframe tbody tr th {\n        vertical-align: top;\n    }\n\n    .dataframe thead th {\n        text-align: right;\n    }\n</style>\n<table border=\"1\" class=\"dataframe\">\n  <thead>\n    <tr style=\"text-align: right;\">\n      <th></th>\n      <th>Host_Death_Time</th>\n      <th>Host_Build</th>\n      <th>Level</th>\n      <th>Phase</th>\n      <th>Waterflow_Death</th>\n      <th>Health_Pct</th>\n      <th>Location</th>\n      <th>Phantom_Count</th>\n      <th>Phantom_Build</th>\n      <th>Phantom_Death</th>\n    </tr>\n  </thead>\n  <tbody>\n    <tr>\n      <th>0</th>\n      <td>299.0</td>\n      <td>RAW_MELEE</td>\n      <td>124.0</td>\n      <td>2.0</td>\n      <td>True</td>\n      <td>66.0</td>\n      <td>INNER</td>\n      <td>2.0</td>\n      <td>RAW_MELEE</td>\n      <td>True</td>\n    </tr>\n    <tr>\n      <th>1</th>\n      <td>261.0</td>\n      <td>HYBRID</td>\n      <td>169.0</td>\n      <td>2.0</td>\n      <td>True</td>\n      <td>92.0</td>\n      <td>CENTER</td>\n      <td>2.0</td>\n      <td>PROC_CAST</td>\n      <td>True</td>\n    </tr>\n    <tr>\n      <th>2</th>\n      <td>148.0</td>\n      <td>PROC_MELEE</td>\n      <td>179.0</td>\n      <td>1.0</td>\n      <td>True</td>\n      <td>93.0</td>\n      <td>INNER</td>\n      <td>1.0</td>\n      <td>NaN</td>\n      <td>NaN</td>\n    </tr>\n    <tr>\n      <th>3</th>\n      <td>247.0</td>\n      <td>RAW_CAST</td>\n      <td>141.0</td>\n      <td>2.0</td>\n      <td>False</td>\n      <td>89.0</td>\n      <td>INNER</td>\n      <td>2.0</td>\n      <td>RAW_MELEE</td>\n      <td>False</td>\n    </tr>\n    <tr>\n      <th>4</th>\n      <td>163.0</td>\n      <td>PROC_CAST</td>\n      <td>126.0</td>\n      <td>1.0</td>\n      <td>True</td>\n      <td>64.0</td>\n      <td>INNER</td>\n      <td>2.0</td>\n      <td>PROC_MELEE</td>\n      <td>True</td>\n    </tr>\n    <tr>\n      <th>...</th>\n      <td>...</td>\n      <td>...</td>\n      <td>...</td>\n      <td>...</td>\n      <td>...</td>\n      <td>...</td>\n      <td>...</td>\n      <td>...</td>\n      <td>...</td>\n      <td>...</td>\n    </tr>\n    <tr>\n      <th>3616</th>\n      <td>204.0</td>\n      <td>RAW_CAST</td>\n      <td>171.0</td>\n      <td>2.0</td>\n      <td>False</td>\n      <td>23.0</td>\n      <td>OUTER</td>\n      <td>1.0</td>\n      <td>NaN</td>\n      <td>NaN</td>\n    </tr>\n    <tr>\n      <th>3617</th>\n      <td>259.0</td>\n      <td>HYBRID</td>\n      <td>160.0</td>\n      <td>2.0</td>\n      <td>False</td>\n      <td>55.0</td>\n      <td>INNER</td>\n      <td>1.0</td>\n      <td>NaN</td>\n      <td>NaN</td>\n    </tr>\n    <tr>\n      <th>3618</th>\n      <td>288.0</td>\n      <td>PROC_CAST</td>\n      <td>173.0</td>\n      <td>2.0</td>\n      <td>False</td>\n      <td>60.0</td>\n      <td>INNER</td>\n      <td>2.0</td>\n      <td>HYBRID</td>\n      <td>True</td>\n    </tr>\n    <tr>\n      <th>3619</th>\n      <td>58.0</td>\n      <td>PROC_CAST</td>\n      <td>139.0</td>\n      <td>2.0</td>\n      <td>False</td>\n      <td>42.0</td>\n      <td>CENTER</td>\n      <td>1.0</td>\n      <td>NaN</td>\n      <td>NaN</td>\n    </tr>\n    <tr>\n      <th>3620</th>\n      <td>270.0</td>\n      <td>HYBRID</td>\n      <td>128.0</td>\n      <td>1.0</td>\n      <td>True</td>\n      <td>73.0</td>\n      <td>INNER</td>\n      <td>2.0</td>\n      <td>PROC_CAST</td>\n      <td>False</td>\n    </tr>\n  </tbody>\n</table>\n<p>3621 rows × 10 columns</p>\n</div>"
     },
     "execution_count": 3,
     "metadata": {},
     "output_type": "execute_result"
    }
   ],
   "source": [
    "gameData = pd.read_csv('malenia.csv')\n",
    "gameData"
   ],
   "metadata": {
    "collapsed": false,
    "pycharm": {
     "name": "#%%\n"
    }
   }
  },
  {
   "cell_type": "code",
   "execution_count": 31,
   "outputs": [
    {
     "data": {
      "text/plain": "       Host_Death_Time        Level        Phase   Health_Pct  Phantom_Count\ncount      3621.000000  3621.000000  3621.000000  3621.000000    3621.000000\nmean        163.391605   149.898923     1.500690    48.916321       1.669705\nstd          80.437678    17.516393     0.500069    25.895421       0.470384\nmin          10.000000   120.000000     1.000000     6.000000       1.000000\n25%          93.000000   135.000000     1.000000    26.000000       1.000000\n50%         163.000000   150.000000     2.000000    49.000000       2.000000\n75%         234.000000   165.000000     2.000000    71.000000       2.000000\nmax         300.000000   180.000000     2.000000    93.000000       2.000000",
      "text/html": "<div>\n<style scoped>\n    .dataframe tbody tr th:only-of-type {\n        vertical-align: middle;\n    }\n\n    .dataframe tbody tr th {\n        vertical-align: top;\n    }\n\n    .dataframe thead th {\n        text-align: right;\n    }\n</style>\n<table border=\"1\" class=\"dataframe\">\n  <thead>\n    <tr style=\"text-align: right;\">\n      <th></th>\n      <th>Host_Death_Time</th>\n      <th>Level</th>\n      <th>Phase</th>\n      <th>Health_Pct</th>\n      <th>Phantom_Count</th>\n    </tr>\n  </thead>\n  <tbody>\n    <tr>\n      <th>count</th>\n      <td>3621.000000</td>\n      <td>3621.000000</td>\n      <td>3621.000000</td>\n      <td>3621.000000</td>\n      <td>3621.000000</td>\n    </tr>\n    <tr>\n      <th>mean</th>\n      <td>163.391605</td>\n      <td>149.898923</td>\n      <td>1.500690</td>\n      <td>48.916321</td>\n      <td>1.669705</td>\n    </tr>\n    <tr>\n      <th>std</th>\n      <td>80.437678</td>\n      <td>17.516393</td>\n      <td>0.500069</td>\n      <td>25.895421</td>\n      <td>0.470384</td>\n    </tr>\n    <tr>\n      <th>min</th>\n      <td>10.000000</td>\n      <td>120.000000</td>\n      <td>1.000000</td>\n      <td>6.000000</td>\n      <td>1.000000</td>\n    </tr>\n    <tr>\n      <th>25%</th>\n      <td>93.000000</td>\n      <td>135.000000</td>\n      <td>1.000000</td>\n      <td>26.000000</td>\n      <td>1.000000</td>\n    </tr>\n    <tr>\n      <th>50%</th>\n      <td>163.000000</td>\n      <td>150.000000</td>\n      <td>2.000000</td>\n      <td>49.000000</td>\n      <td>2.000000</td>\n    </tr>\n    <tr>\n      <th>75%</th>\n      <td>234.000000</td>\n      <td>165.000000</td>\n      <td>2.000000</td>\n      <td>71.000000</td>\n      <td>2.000000</td>\n    </tr>\n    <tr>\n      <th>max</th>\n      <td>300.000000</td>\n      <td>180.000000</td>\n      <td>2.000000</td>\n      <td>93.000000</td>\n      <td>2.000000</td>\n    </tr>\n  </tbody>\n</table>\n</div>"
     },
     "execution_count": 31,
     "metadata": {},
     "output_type": "execute_result"
    }
   ],
   "source": [
    "gameData.describe()"
   ],
   "metadata": {
    "collapsed": false,
    "pycharm": {
     "name": "#%%\n"
    }
   }
  },
  {
   "cell_type": "code",
   "execution_count": 4,
   "outputs": [
    {
     "data": {
      "text/plain": "208.3"
     },
     "execution_count": 4,
     "metadata": {},
     "output_type": "execute_result"
    }
   ],
   "source": [
    "gameData['Host_Death_Time'].head(10).mean()"
   ],
   "metadata": {
    "collapsed": false,
    "pycharm": {
     "name": "#%%\n"
    }
   }
  },
  {
   "cell_type": "code",
   "execution_count": 7,
   "outputs": [
    {
     "data": {
      "text/plain": "8.5"
     },
     "execution_count": 7,
     "metadata": {},
     "output_type": "execute_result"
    }
   ],
   "source": [
    "from scipy.stats import trim_mean as tm\n",
    "tm(gameData['Level'].head(50),0.1)\n",
    "tm([6.0, 8.1, 8.3, 9.1,9.9],0.2)"
   ],
   "metadata": {
    "collapsed": false,
    "pycharm": {
     "name": "#%%\n"
    }
   }
  },
  {
   "cell_type": "code",
   "execution_count": 10,
   "outputs": [
    {
     "data": {
      "text/plain": "153.12603495860165"
     },
     "execution_count": 10,
     "metadata": {},
     "output_type": "execute_result"
    }
   ],
   "source": [
    "np.average(gameData['Level'].tail(25),weights=gameData['Health_Pct'].tail(25))"
   ],
   "metadata": {
    "collapsed": false,
    "pycharm": {
     "name": "#%%\n"
    }
   }
  },
  {
   "cell_type": "code",
   "execution_count": 11,
   "outputs": [
    {
     "data": {
      "text/plain": "150.0"
     },
     "execution_count": 11,
     "metadata": {},
     "output_type": "execute_result"
    }
   ],
   "source": [
    "gameData['Level'].median()"
   ],
   "metadata": {
    "collapsed": false,
    "pycharm": {
     "name": "#%%\n"
    }
   }
  },
  {
   "cell_type": "code",
   "execution_count": 32,
   "outputs": [
    {
     "data": {
      "text/plain": "17.516393314585166"
     },
     "execution_count": 32,
     "metadata": {},
     "output_type": "execute_result"
    }
   ],
   "source": [
    "from statistics import stdev\n",
    "stdev(gameData['Level'])"
   ],
   "metadata": {
    "collapsed": false,
    "pycharm": {
     "name": "#%%\n"
    }
   }
  },
  {
   "cell_type": "code",
   "execution_count": 7,
   "outputs": [
    {
     "data": {
      "text/plain": "{'whiskers': [<matplotlib.lines.Line2D at 0x1c6b7791b40>,\n  <matplotlib.lines.Line2D at 0x1c6b7791e10>],\n 'caps': [<matplotlib.lines.Line2D at 0x1c6b7793df0>,\n  <matplotlib.lines.Line2D at 0x1c6b7791fc0>],\n 'boxes': [<matplotlib.lines.Line2D at 0x1c6b7791870>],\n 'medians': [<matplotlib.lines.Line2D at 0x1c6b7792290>],\n 'fliers': [<matplotlib.lines.Line2D at 0x1c6b7792500>],\n 'means': []}"
     },
     "execution_count": 7,
     "metadata": {},
     "output_type": "execute_result"
    },
    {
     "data": {
      "text/plain": "<Figure size 432x288 with 1 Axes>",
      "image/png": "[encoded data removed]"
     },
     "metadata": {},
     "output_type": "display_data"
    }
   ],
   "source": [
    "import matplotlib.pyplot as plt\n",
    "lst = gameData['Host_Death_Time'].head(10)\n",
    "plt.boxplot(lst)"
   ],
   "metadata": {
    "collapsed": false,
    "pycharm": {
     "name": "#%%\n"
    }
   }
  },
  {
   "cell_type": "code",
   "execution_count": 8,
   "outputs": [
    {
     "data": {
      "text/plain": "(array([2., 1., 0., 2.]),\n array([124.  , 137.75, 151.5 , 165.25, 179.  ]),\n <BarContainer object of 4 artists>)"
     },
     "execution_count": 8,
     "metadata": {},
     "output_type": "execute_result"
    },
    {
     "data": {
      "text/plain": "<Figure size 432x288 with 1 Axes>",
      "image/png": "[encoded data removed]"
     },
     "metadata": {},
     "output_type": "display_data"
    }
   ],
   "source": [
    "plt.hist(x = gameData['Level'].head(5), bins='auto', color = \"green\", rwidth=0.4)"
   ],
   "metadata": {
    "collapsed": false,
    "pycharm": {
     "name": "#%%\n"
    }
   }
  },
  {
   "cell_type": "code",
   "execution_count": 7,
   "outputs": [
    {
     "data": {
      "text/plain": "<matplotlib.collections.PathCollection at 0x1283355fa90>"
     },
     "execution_count": 7,
     "metadata": {},
     "output_type": "execute_result"
    },
    {
     "data": {
      "text/plain": "<Figure size 432x288 with 1 Axes>",
      "image/png": "[encoded data removed]"
     },
     "metadata": {
      "needs_background": "light"
     },
     "output_type": "display_data"
    }
   ],
   "source": [
    "plt.scatter(x=gameData['Host_Death_Time'].head(20), y = gameData['Level'].head(20))"
   ],
   "metadata": {
    "collapsed": false,
    "pycharm": {
     "name": "#%%\n"
    }
   }
  },
  {
   "cell_type": "code",
   "execution_count": 15,
   "outputs": [
    {
     "data": {
      "text/plain": "([<matplotlib.patches.Wedge at 0x128423bb1c0>,\n  <matplotlib.patches.Wedge at 0x128423bb640>,\n  <matplotlib.patches.Wedge at 0x128423bbb20>,\n  <matplotlib.patches.Wedge at 0x128423d8040>,\n  <matplotlib.patches.Wedge at 0x128423d8520>,\n  <matplotlib.patches.Wedge at 0x128423d8a00>,\n  <matplotlib.patches.Wedge at 0x128423d8ee0>,\n  <matplotlib.patches.Wedge at 0x128423d93c0>,\n  <matplotlib.patches.Wedge at 0x128423d98a0>,\n  <matplotlib.patches.Wedge at 0x128423d9d80>],\n [Text(1.0636923192208887, 0.28028316044758583, '66.0'),\n  Text(0.7123051035790848, 0.8382251722629127, '92.0'),\n  Text(-0.020568751848142025, 1.0998076770269472, '93.0'),\n  Text(-0.6947361982622212, 0.8528432533731833, '89.0'),\n  Text(-1.0397724429518527, 0.358989229473443, '64.0'),\n  Text(-1.0763410222518002, -0.2269140890688586, '40.0'),\n  Text(-0.7565266088340075, -0.798540850630772, '49.0'),\n  Text(-0.08220309805452111, -1.096924177265794, '86.0'),\n  Text(0.5832987896527091, -0.9326105950447298, '12.0'),\n  Text(1.0264462299022281, -0.395484686327426, '65.0')])"
     },
     "execution_count": 15,
     "metadata": {},
     "output_type": "execute_result"
    },
    {
     "data": {
      "text/plain": "<Figure size 432x288 with 1 Axes>",
      "image/png": "[encoded data removed]"
     },
     "metadata": {},
     "output_type": "display_data"
    }
   ],
   "source": [
    "plt.pie(gameData['Level'].head(10),labels=gameData['Health_Pct'].head(10))"
   ],
   "metadata": {
    "collapsed": false,
    "pycharm": {
     "name": "#%%\n"
    }
   }
  },
  {
   "cell_type": "code",
   "execution_count": 18,
   "outputs": [
    {
     "name": "stderr",
     "output_type": "stream",
     "text": [
      "d:\\mca\\mca _2nd\\python\\python_mca_course\\venv\\lib\\site-packages\\seaborn\\distributions.py:2619: FutureWarning: `distplot` is a deprecated function and will be removed in a future version. Please adapt your code to use either `displot` (a figure-level function with similar flexibility) or `histplot` (an axes-level function for histograms).\n",
      "  warnings.warn(msg, FutureWarning)\n"
     ]
    },
    {
     "data": {
      "text/plain": "<AxesSubplot:xlabel='Level', ylabel='Density'>"
     },
     "execution_count": 18,
     "metadata": {},
     "output_type": "execute_result"
    },
    {
     "data": {
      "text/plain": "<Figure size 432x288 with 1 Axes>",
      "image/png": "[encoded data removed]"
     },
     "metadata": {
      "needs_background": "light"
     },
     "output_type": "display_data"
    }
   ],
   "source": [
    "import seaborn as sb\n",
    "sb.distplot(gameData['Level'].head(20))"
   ],
   "metadata": {
    "collapsed": false,
    "pycharm": {
     "name": "#%%\n"
    }
   }
  }
 ],
 "metadata": {
  "kernelspec": {
   "display_name": "Python 3",
   "language": "python",
   "name": "python3"
  },
  "language_info": {
   "codemirror_mode": {
    "name": "ipython",
    "version": 2
   },
   "file_extension": ".py",
   "mimetype": "text/x-python",
   "name": "python",
   "nbconvert_exporter": "python",
   "pygments_lexer": "ipython2",
   "version": "2.7.6"
  }
 },
 "nbformat": 4,
 "nbformat_minor": 0
}